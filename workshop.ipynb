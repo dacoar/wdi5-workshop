{
 "cells": [
  {
   "cell_type": "markdown",
   "metadata": {},
   "source": []
  },
  {
   "cell_type": "markdown",
   "metadata": {},
   "source": [
    "# wdi5 workshop\n",
    "\n",
    "## prerequisites\n",
    "\n",
    "## notes\n",
    "\n",
    "- development with either `ui5-tooling` or a basic webserver\n",
    "- UI5 boostrap/consumption via `ui5-tooling` or cdn\n",
    "- `mocha` only"
   ]
  },
  {
   "cell_type": "markdown",
   "metadata": {},
   "source": [
    "## installation\n",
    "### local\n",
    "npm init wdi5 (equivalent to npm init wdi5 -- --js)\n",
    "(npm init wdi5 -- --ts)\n",
    "\n",
    "### docker\n",
    "### jupyterlab"
   ]
  },
  {
   "cell_type": "markdown",
   "metadata": {},
   "source": [
    "\n",
    "## UI5 JavaScript app\n",
    "\n",
    "### add devtime code completion"
   ]
  },
  {
   "cell_type": "markdown",
   "metadata": {
    "vscode": {
     "languageId": "shellscript"
    }
   },
   "source": [
    "(shell kernel)\n",
    "```shell\n",
    "/bin/cat > ui5-js-app/jsconfig.jscon <<EOL\n",
    "{\n",
    "  \"compilerOptions\": {\n",
    "    \"types\": [\"node\", \"webdriverio/async\", \"@wdio/mocha-framework\", \"wdio-ui5-service/dist\"]\n",
    "  }\n",
    "}\n",
    "EOL\n",
    "```"
   ]
  },
  {
   "cell_type": "markdown",
   "metadata": {},
   "source": [
    "### sketch\n",
    "- `--watch`\n",
    "- single api calls vs fluent async api\n",
    "- $list.getItems() - $list.getItems(true)"
   ]
  }
 ],
 "metadata": {
  "kernelspec": {
   "display_name": "SoS",
   "language": "sos",
   "name": "sos"
  },
  "language_info": {
   "codemirror_mode": {
    "name": "ipython",
    "version": 3
   },
   "file_extension": ".py",
   "mimetype": "text/x-python",
   "name": "sos",
   "nbconvert_exporter": "python",
   "pygments_lexer": "ipython3",
   "version": "3.9.13"
  },
  "orig_nbformat": 4,
  "vscode": {
   "interpreter": {
    "hash": "aee8b7b246df8f9039afb4144a1f6fd8d2ca17a180786b69acc140d282b71a49"
   }
  }
 },
 "nbformat": 4,
 "nbformat_minor": 2
}
