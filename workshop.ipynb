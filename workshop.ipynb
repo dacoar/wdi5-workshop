{
 "cells": [
  {
   "cell_type": "code",
   "execution_count": null,
   "metadata": {},
   "outputs": [],
   "source": []
  },
  {
   "cell_type": "markdown",
   "metadata": {},
   "source": [
    "# wdi5 workshop\n",
    "\n",
    "## prerequisites\n",
    "\n",
    "## notes\n",
    "\n",
    "- `mocha` only\n",
    "\n",
    "## UI5 JavaScript app\n",
    "\n",
    "### add devtime code completion"
   ]
  },
  {
   "cell_type": "code",
   "execution_count": null,
   "metadata": {
    "vscode": {
     "languageId": "shellscript"
    }
   },
   "outputs": [],
   "source": [
    "echo '\n",
    "{\n",
    "  \"compilerOptions\": {\n",
    "    \"types\": [\"node\", \"webdriverio/async\", \"@wdio/mocha-framework\", \"wdio-ui5-service/dist\"]\n",
    "  }\n",
    "}\n",
    "' > ui5-js-app/jsconfig.jscon\n",
    "    "
   ]
  }
 ],
 "metadata": {
  "language_info": {
   "name": "python"
  },
  "orig_nbformat": 4
 },
 "nbformat": 4,
 "nbformat_minor": 2
}
